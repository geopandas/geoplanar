{
 "cells": [
  {
   "cell_type": "code",
   "execution_count": 1,
   "id": "dominant-arlington",
   "metadata": {},
   "outputs": [
    {
     "name": "stderr",
     "output_type": "stream",
     "text": [
      "/Users/serge/mambaforge/envs/geoplanar/lib/python3.10/site-packages/pyproj/network.py:59: UserWarning: pyproj unable to set PROJ database path.\n",
      "  _set_context_ca_bundle_path(ca_bundle_path)\n"
     ]
    }
   ],
   "source": [
    "import geopandas\n",
    "import numpy\n",
    "import matplotlib.pyplot as plt\n",
    "import geoplanar\n",
    "from shapely.geometry import box, Polygon\n"
   ]
  },
  {
   "cell_type": "markdown",
   "id": "desperate-press",
   "metadata": {},
   "source": [
    "## Violation: Gaps"
   ]
  },
  {
   "cell_type": "code",
   "execution_count": 2,
   "id": "coordinated-beijing",
   "metadata": {},
   "outputs": [
    {
     "data": {
      "text/plain": [
       "<Axes: >"
      ]
     },
     "execution_count": 2,
     "metadata": {},
     "output_type": "execute_result"
    },
    {
     "data": {
      "image/png": "[encoded data removed]",
      "text/plain": [
       "<Figure size 640x480 with 1 Axes>"
      ]
     },
     "metadata": {},
     "output_type": "display_data"
    }
   ],
   "source": [
    "p1 = box(0,0,10,10)\n",
    "p2 = Polygon([(10,10), (12,8), (10,6), (12,4), (10,2), (20,5)])\n",
    "\n",
    "gdf = geopandas.GeoDataFrame(geometry=[p1,p2])\n",
    "gdf.plot(edgecolor='k')"
   ]
  },
  {
   "cell_type": "code",
   "execution_count": 3,
   "id": "nonprofit-bleeding",
   "metadata": {},
   "outputs": [
    {
     "data": {
      "text/plain": [
       "0     POLYGON ((10 2, 10 6, 12 4, 10 2))\n",
       "1    POLYGON ((10 6, 10 10, 12 8, 10 6))\n",
       "dtype: geometry"
      ]
     },
     "execution_count": 3,
     "metadata": {},
     "output_type": "execute_result"
    }
   ],
   "source": [
    "geoplanar.gaps(gdf)"
   ]
  },
  {
   "cell_type": "code",
   "execution_count": 4,
   "id": "54368580-9ef2-4bbc-83f5-dabcd439bee5",
   "metadata": {},
   "outputs": [],
   "source": [
    "g = geoplanar.gaps(gdf)"
   ]
  },
  {
   "cell_type": "code",
   "execution_count": 5,
   "id": "7dc2a758-ce4b-4274-9758-17448d2d1161",
   "metadata": {},
   "outputs": [
    {
     "data": {
      "text/plain": [
       "array([4., 4.])"
      ]
     },
     "execution_count": 5,
     "metadata": {},
     "output_type": "execute_result"
    }
   ],
   "source": [
    "g.area.values"
   ]
  },
  {
   "cell_type": "code",
   "execution_count": 6,
   "id": "incomplete-store",
   "metadata": {},
   "outputs": [],
   "source": [
    "gdf1 = geoplanar.fill_gaps(gdf)"
   ]
  },
  {
   "cell_type": "code",
   "execution_count": 7,
   "id": "civil-greenhouse",
   "metadata": {},
   "outputs": [
    {
     "data": {
      "text/plain": [
       "<Axes: >"
      ]
     },
     "execution_count": 7,
     "metadata": {},
     "output_type": "execute_result"
    },
    {
     "data": {
      "image/png": "[encoded data removed]",
      "text/plain": [
       "<Figure size 640x480 with 1 Axes>"
      ]
     },
     "metadata": {},
     "output_type": "display_data"
    }
   ],
   "source": [
    "gdf1.plot(edgecolor='k')"
   ]
  },
  {
   "cell_type": "code",
   "execution_count": 8,
   "id": "104079d5-7af6-432e-8eb1-e797ffe0db6f",
   "metadata": {},
   "outputs": [
    {
     "data": {
      "text/plain": [
       "0    108.0\n",
       "1     32.0\n",
       "dtype: float64"
      ]
     },
     "execution_count": 8,
     "metadata": {},
     "output_type": "execute_result"
    }
   ],
   "source": [
    "gdf1.area"
   ]
  },
  {
   "cell_type": "code",
   "execution_count": 9,
   "id": "eb5199bc-e1a1-4afa-9253-fdf9f6faedbc",
   "metadata": {},
   "outputs": [
    {
     "data": {
      "text/plain": [
       "0    100.0\n",
       "1     32.0\n",
       "dtype: float64"
      ]
     },
     "execution_count": 9,
     "metadata": {},
     "output_type": "execute_result"
    }
   ],
   "source": [
    "gdf.area"
   ]
  },
  {
   "cell_type": "code",
   "execution_count": 10,
   "id": "satisfactory-summer",
   "metadata": {},
   "outputs": [
    {
     "data": {
      "text/plain": [
       "GeoSeries([], dtype: geometry)"
      ]
     },
     "execution_count": 10,
     "metadata": {},
     "output_type": "execute_result"
    }
   ],
   "source": [
    "geoplanar.gaps(gdf1)"
   ]
  },
  {
   "cell_type": "markdown",
   "id": "c5743a2c-5e18-434e-adc9-8be98417787e",
   "metadata": {},
   "source": [
    "The default is to merge the gap with the largest neighboring feature. \n",
    "\n",
    "To merge the gap with the smallest neighboring feature strategy='smallest':"
   ]
  },
  {
   "cell_type": "code",
   "execution_count": 13,
   "id": "45ff1bb6-d39d-480a-898b-0db53fc72aed",
   "metadata": {},
   "outputs": [
    {
     "data": {
      "text/plain": [
       "<Axes: >"
      ]
     },
     "execution_count": 13,
     "metadata": {},
     "output_type": "execute_result"
    },
    {
     "data": {
      "image/png": "[encoded data removed]",
      "text/plain": [
       "<Figure size 640x480 with 1 Axes>"
      ]
     },
     "metadata": {},
     "output_type": "display_data"
    }
   ],
   "source": [
    "geoplanar.fill_gaps(gdf, strategy='smallest').plot(edgecolor='k')"
   ]
  },
  {
   "cell_type": "code",
   "execution_count": null,
   "id": "0285a4bc-616f-4f3c-ba2c-0fcb0523efa9",
   "metadata": {},
   "outputs": [],
   "source": []
  },
  {
   "cell_type": "code",
   "execution_count": 14,
   "id": "692355ff-dce6-4397-a1a5-e3f92cf27471",
   "metadata": {},
   "outputs": [
    {
     "data": {
      "text/plain": [
       "0    100.0\n",
       "1     40.0\n",
       "dtype: float64"
      ]
     },
     "execution_count": 14,
     "metadata": {},
     "output_type": "execute_result"
    }
   ],
   "source": [
    "geoplanar.fill_gaps(gdf, strategy='smallest').area"
   ]
  },
  {
   "cell_type": "code",
   "execution_count": null,
   "id": "1bc44e41-b2b3-485f-b705-6fa518d52345",
   "metadata": {},
   "outputs": [],
   "source": []
  },
  {
   "cell_type": "markdown",
   "id": "f19e2ece-ab72-4b1a-b598-e840bc186d34",
   "metadata": {},
   "source": []
  },
  {
   "cell_type": "markdown",
   "id": "463056e4-f622-4e8b-85a1-b0f2e76664d8",
   "metadata": {},
   "source": [
    "## Maximizing compactness when filling gaps"
   ]
  },
  {
   "cell_type": "code",
   "execution_count": 15,
   "id": "b3cbdf71-d928-49d3-a77e-8fe6d4eb84bf",
   "metadata": {},
   "outputs": [
    {
     "data": {
      "image/png": "[encoded data removed]",
      "text/plain": [
       "<Figure size 640x480 with 1 Axes>"
      ]
     },
     "metadata": {},
     "output_type": "display_data"
    }
   ],
   "source": [
    "p1 = box(9,0,10,5)\n",
    "p2 = box(10,0, 40,2)\n",
    "p3 = box(10,3, 40,10)\n",
    "p4 = box(40,0, 100, 10)\n",
    "gdf = geopandas.GeoDataFrame(geometry=[p1,p2, p3, p4])\n",
    "gdf.plot(edgecolor='k');\n"
   ]
  },
  {
   "cell_type": "markdown",
   "id": "34488c50-5a32-4e15-a4cd-9d848dc765f4",
   "metadata": {},
   "source": [
    "The default will result in attaching the gap to the largest polygon:"
   ]
  },
  {
   "cell_type": "code",
   "execution_count": 16,
   "id": "9cb5e116-d789-420a-a77d-f9966b118305",
   "metadata": {},
   "outputs": [
    {
     "data": {
      "text/plain": [
       "<bound method Axes.plot of <Axes: >>"
      ]
     },
     "execution_count": 16,
     "metadata": {},
     "output_type": "execute_result"
    },
    {
     "data": {
      "image/png": "[encoded data removed]",
      "text/plain": [
       "<Figure size 640x480 with 1 Axes>"
      ]
     },
     "metadata": {},
     "output_type": "display_data"
    }
   ],
   "source": [
    "geoplanar.fill_gaps(gdf).plot(edgecolor='k').plot"
   ]
  },
  {
   "cell_type": "markdown",
   "id": "e3c88609-358a-4d2b-a73d-caf5850ecec3",
   "metadata": {},
   "source": [
    "Attaching to the smallest candidate polygon also results in a non-compact polygon."
   ]
  },
  {
   "cell_type": "code",
   "execution_count": 17,
   "id": "2ced28dc-1013-499b-96b6-2e91221db084",
   "metadata": {},
   "outputs": [
    {
     "data": {
      "text/plain": [
       "<bound method Axes.plot of <Axes: >>"
      ]
     },
     "execution_count": 17,
     "metadata": {},
     "output_type": "execute_result"
    },
    {
     "data": {
      "image/png": "[encoded data removed]",
      "text/plain": [
       "<Figure size 640x480 with 1 Axes>"
      ]
     },
     "metadata": {},
     "output_type": "display_data"
    }
   ],
   "source": [
    "geoplanar.fill_gaps(gdf,strategy='smallest').plot(edgecolor='k').plot"
   ]
  },
  {
   "cell_type": "markdown",
   "id": "fa15bec1-a268-416b-ac9e-7a5dde37c7ee",
   "metadata": {},
   "source": [
    "Setting `strategy=\"compact\"` will instead add the gap to the candidate polygon that results in the new polygon with the highest compactness (measured by the isoperimetric quotient)."
   ]
  },
  {
   "cell_type": "code",
   "execution_count": 18,
   "id": "9f8bdf59-48c1-46c0-b1fe-9540d3ae6b9b",
   "metadata": {},
   "outputs": [
    {
     "data": {
      "text/plain": [
       "<Axes: >"
      ]
     },
     "execution_count": 18,
     "metadata": {},
     "output_type": "execute_result"
    },
    {
     "data": {
      "image/png": "[encoded data removed]",
      "text/plain": [
       "<Figure size 640x480 with 1 Axes>"
      ]
     },
     "metadata": {},
     "output_type": "display_data"
    }
   ],
   "source": [
    "geoplanar.fill_gaps(gdf, strategy='compact').plot(edgecolor='k')"
   ]
  },
  {
   "cell_type": "markdown",
   "id": "b73c9963-bf28-4bc8-9f3a-c72784ddf1bf",
   "metadata": {},
   "source": [
    "## Checking edge case"
   ]
  },
  {
   "cell_type": "code",
   "execution_count": 19,
   "id": "3495057c-2807-4fb5-beb8-c7b7415462a0",
   "metadata": {},
   "outputs": [
    {
     "data": {
      "text/plain": [
       "<Axes: >"
      ]
     },
     "execution_count": 19,
     "metadata": {},
     "output_type": "execute_result"
    },
    {
     "data": {
      "image/png": "[encoded data removed]",
      "text/plain": [
       "<Figure size 640x480 with 1 Axes>"
      ]
     },
     "metadata": {},
     "output_type": "display_data"
    }
   ],
   "source": [
    "p1 = box(0,0,10,10)\n",
    "p2 = Polygon([(10,10), (12,8), (10,6), (12,4), (10,2), (20,5)])\n",
    "p3 = box(17,0,20,2)\n",
    "\n",
    "gdf = geopandas.GeoDataFrame(geometry=[p1,p2,p3])\n",
    "gdf.plot(edgecolor='k')"
   ]
  },
  {
   "cell_type": "code",
   "execution_count": 20,
   "id": "afc5568d-b7b2-42fc-8784-72928fc7a3a8",
   "metadata": {},
   "outputs": [],
   "source": [
    "g = geoplanar.gaps(gdf)"
   ]
  },
  {
   "cell_type": "code",
   "execution_count": 21,
   "id": "0b687ca3-2215-4ebc-b480-7a04b92d2110",
   "metadata": {},
   "outputs": [
    {
     "data": {
      "text/plain": [
       "<Axes: >"
      ]
     },
     "execution_count": 21,
     "metadata": {},
     "output_type": "execute_result"
    },
    {
     "data": {
      "image/png": "[encoded data removed]",
      "text/plain": [
       "<Figure size 640x480 with 1 Axes>"
      ]
     },
     "metadata": {},
     "output_type": "display_data"
    }
   ],
   "source": [
    "g.plot()"
   ]
  },
  {
   "cell_type": "code",
   "execution_count": 22,
   "id": "7beef95b-80bb-4fc0-a114-86a91d3dd54d",
   "metadata": {},
   "outputs": [
    {
     "data": {
      "text/plain": [
       "<Axes: >"
      ]
     },
     "execution_count": 22,
     "metadata": {},
     "output_type": "execute_result"
    },
    {
     "data": {
      "image/png": "[encoded data removed]",
      "text/plain": [
       "<Figure size 640x480 with 1 Axes>"
      ]
     },
     "metadata": {},
     "output_type": "display_data"
    }
   ],
   "source": [
    "geoplanar.fill_gaps(gdf, strategy='smallest').plot(edgecolor='k')"
   ]
  },
  {
   "cell_type": "code",
   "execution_count": 23,
   "id": "4334053f-9ce8-4d14-bccf-51fcab7c573f",
   "metadata": {},
   "outputs": [
    {
     "data": {
      "text/plain": [
       "<Axes: >"
      ]
     },
     "execution_count": 23,
     "metadata": {},
     "output_type": "execute_result"
    },
    {
     "data": {
      "image/png": "[encoded data removed]",
      "text/plain": [
       "<Figure size 640x480 with 1 Axes>"
      ]
     },
     "metadata": {},
     "output_type": "display_data"
    }
   ],
   "source": [
    "geoplanar.fill_gaps(gdf, strategy='largest').plot(edgecolor='k')"
   ]
  },
  {
   "cell_type": "code",
   "execution_count": 24,
   "id": "85790a85-e6a7-4a56-92e1-1bcd5915a840",
   "metadata": {},
   "outputs": [
    {
     "data": {
      "text/plain": [
       "<Axes: >"
      ]
     },
     "execution_count": 24,
     "metadata": {},
     "output_type": "execute_result"
    },
    {
     "data": {
      "image/png": "[encoded data removed]",
      "text/plain": [
       "<Figure size 640x480 with 1 Axes>"
      ]
     },
     "metadata": {},
     "output_type": "display_data"
    }
   ],
   "source": [
    "geoplanar.fill_gaps(gdf, strategy=None).plot(edgecolor='k')"
   ]
  },
  {
   "cell_type": "code",
   "execution_count": 25,
   "id": "3bc55181-35cb-46e0-a03d-899ae46e6d15",
   "metadata": {},
   "outputs": [
    {
     "data": {
      "text/plain": [
       "<Axes: >"
      ]
     },
     "execution_count": 25,
     "metadata": {},
     "output_type": "execute_result"
    },
    {
     "data": {
      "image/png": "[encoded data removed]",
      "text/plain": [
       "<Figure size 640x480 with 1 Axes>"
      ]
     },
     "metadata": {},
     "output_type": "display_data"
    }
   ],
   "source": [
    "gdf.plot()"
   ]
  },
  {
   "cell_type": "markdown",
   "id": "5b5bfe48-cbb7-4bdd-9d7b-1ce647ed2898",
   "metadata": {},
   "source": [
    "## Gap with an inlet (non-gap)"
   ]
  },
  {
   "cell_type": "code",
   "execution_count": 26,
   "id": "196c642c-aa9f-454d-b10e-35133565b016",
   "metadata": {},
   "outputs": [
    {
     "data": {
      "text/plain": [
       "<Axes: >"
      ]
     },
     "execution_count": 26,
     "metadata": {},
     "output_type": "execute_result"
    },
    {
     "data": {
      "image/png": "[encoded data removed]",
      "text/plain": [
       "<Figure size 640x480 with 1 Axes>"
      ]
     },
     "metadata": {},
     "output_type": "display_data"
    }
   ],
   "source": [
    "p1 = box(0,0,10,10)\n",
    "p2 = Polygon([(10,10), (12,8), (10,6), (12,4), (11,2), (20,5)])\n",
    "\n",
    "# a true gap with a inlet\n",
    "gdf = geopandas.GeoDataFrame(geometry=[p1,p2])\n",
    "gdf.plot(edgecolor='k')"
   ]
  },
  {
   "cell_type": "code",
   "execution_count": 27,
   "id": "b6616c29-dcea-489c-9830-2bf494fb43a2",
   "metadata": {},
   "outputs": [
    {
     "data": {
      "text/plain": [
       "0    POLYGON ((10 6, 10 10, 12 8, 10 6))\n",
       "dtype: geometry"
      ]
     },
     "execution_count": 27,
     "metadata": {},
     "output_type": "execute_result"
    }
   ],
   "source": [
    "geoplanar.gaps(gdf)"
   ]
  },
  {
   "cell_type": "code",
   "execution_count": 29,
   "id": "c8bd5c15-91a8-4676-819b-7e4a30e8633c",
   "metadata": {},
   "outputs": [
    {
     "data": {
      "text/plain": [
       "<Axes: >"
      ]
     },
     "execution_count": 29,
     "metadata": {},
     "output_type": "execute_result"
    },
    {
     "data": {
      "image/png": "[encoded data removed]",
      "text/plain": [
       "<Figure size 640x480 with 1 Axes>"
      ]
     },
     "metadata": {},
     "output_type": "display_data"
    }
   ],
   "source": [
    "geoplanar.fill_gaps(gdf, strategy='smallest').plot(edgecolor='k')"
   ]
  },
  {
   "cell_type": "code",
   "execution_count": 30,
   "id": "ce9f3ad7-42d8-4646-a254-96c6c8ca1a69",
   "metadata": {},
   "outputs": [
    {
     "data": {
      "text/plain": [
       "<Axes: >"
      ]
     },
     "execution_count": 30,
     "metadata": {},
     "output_type": "execute_result"
    },
    {
     "data": {
      "image/png": "[encoded data removed]",
      "text/plain": [
       "<Figure size 640x480 with 1 Axes>"
      ]
     },
     "metadata": {},
     "output_type": "display_data"
    }
   ],
   "source": [
    "geoplanar.fill_gaps(gdf, strategy='largest').plot(edgecolor='k')"
   ]
  },
  {
   "cell_type": "markdown",
   "id": "6e91ef75-0cb2-4573-aeaa-9308bbfe08ae",
   "metadata": {},
   "source": [
    "## Selective Correction"
   ]
  },
  {
   "cell_type": "code",
   "execution_count": 31,
   "id": "b1db4682-7144-485c-ace4-61ea4d62ed44",
   "metadata": {},
   "outputs": [
    {
     "data": {
      "text/plain": [
       "<Axes: >"
      ]
     },
     "execution_count": 31,
     "metadata": {},
     "output_type": "execute_result"
    },
    {
     "data": {
      "image/png": "[encoded data removed]",
      "text/plain": [
       "<Figure size 640x480 with 1 Axes>"
      ]
     },
     "metadata": {},
     "output_type": "display_data"
    }
   ],
   "source": [
    "p1 = box(0,0,10,10)\n",
    "p2 = Polygon([(10,10), (12,8), (10,6), (12,4), (10,2), (20,5)])\n",
    "p3 = box(17,0,20,2)\n",
    "\n",
    "gdf = geopandas.GeoDataFrame(geometry=[p1,p2,p3])\n",
    "gdf.plot(edgecolor='k')"
   ]
  },
  {
   "cell_type": "code",
   "execution_count": 32,
   "id": "9c5c3bf4-7bbc-47c2-94e2-3755502995b4",
   "metadata": {},
   "outputs": [],
   "source": [
    "gaps = geoplanar.gaps(gdf)"
   ]
  },
  {
   "cell_type": "code",
   "execution_count": 33,
   "id": "34e7e15c-bf0d-47cb-b922-7088c514a529",
   "metadata": {},
   "outputs": [
    {
     "data": {
      "text/plain": [
       "<Axes: >"
      ]
     },
     "execution_count": 33,
     "metadata": {},
     "output_type": "execute_result"
    },
    {
     "data": {
      "image/png": "[encoded data removed]",
      "text/plain": [
       "<Figure size 640x480 with 1 Axes>"
      ]
     },
     "metadata": {},
     "output_type": "display_data"
    }
   ],
   "source": [
    "base = gdf.plot()\n",
    "gaps.plot(color='red', ax=base)"
   ]
  },
  {
   "cell_type": "code",
   "execution_count": 34,
   "id": "f44120d4-4865-4e04-9468-68790006aa5c",
   "metadata": {},
   "outputs": [
    {
     "data": {
      "text/plain": [
       "0     POLYGON ((10 2, 10 6, 12 4, 10 2))\n",
       "1    POLYGON ((10 6, 10 10, 12 8, 10 6))\n",
       "dtype: geometry"
      ]
     },
     "execution_count": 34,
     "metadata": {},
     "output_type": "execute_result"
    }
   ],
   "source": [
    "gaps"
   ]
  },
  {
   "cell_type": "code",
   "execution_count": 35,
   "id": "34a6ad89-88a1-4577-bcae-d8ddba3c1136",
   "metadata": {},
   "outputs": [],
   "source": [
    "g2 = gaps.loc[[1]]"
   ]
  },
  {
   "cell_type": "code",
   "execution_count": 36,
   "id": "67178560-85a1-4c28-96c5-61db3479849d",
   "metadata": {},
   "outputs": [
    {
     "data": {
      "text/plain": [
       "1    POLYGON ((10 6, 10 10, 12 8, 10 6))\n",
       "dtype: geometry"
      ]
     },
     "execution_count": 36,
     "metadata": {},
     "output_type": "execute_result"
    }
   ],
   "source": [
    "g2"
   ]
  },
  {
   "cell_type": "code",
   "execution_count": 37,
   "id": "16582d71-b08e-4446-a789-7a0fd87ee27a",
   "metadata": {},
   "outputs": [],
   "source": [
    "filled = geoplanar.fill_gaps(gdf,g2)"
   ]
  },
  {
   "cell_type": "code",
   "execution_count": 38,
   "id": "5928f64a-0a9a-4e94-9963-2a328e61ac4a",
   "metadata": {},
   "outputs": [
    {
     "data": {
      "text/plain": [
       "<Axes: >"
      ]
     },
     "execution_count": 38,
     "metadata": {},
     "output_type": "execute_result"
    },
    {
     "data": {
      "image/png": "[encoded data removed]",
      "text/plain": [
       "<Figure size 640x480 with 1 Axes>"
      ]
     },
     "metadata": {},
     "output_type": "display_data"
    }
   ],
   "source": [
    "base = filled.plot()\n",
    "g2.plot(color='red', ax=base)"
   ]
  },
  {
   "cell_type": "code",
   "execution_count": 39,
   "id": "46873b5b-f32a-437f-b3c4-ee0e97c4727c",
   "metadata": {},
   "outputs": [
    {
     "data": {
      "text/plain": [
       "0    104.0\n",
       "1     32.0\n",
       "2      6.0\n",
       "dtype: float64"
      ]
     },
     "execution_count": 39,
     "metadata": {},
     "output_type": "execute_result"
    }
   ],
   "source": [
    "filled.area"
   ]
  },
  {
   "cell_type": "code",
   "execution_count": 40,
   "id": "282563af-9986-452a-81e2-c0d08b3f04a4",
   "metadata": {},
   "outputs": [
    {
     "data": {
      "text/plain": [
       "(3, 1)"
      ]
     },
     "execution_count": 40,
     "metadata": {},
     "output_type": "execute_result"
    }
   ],
   "source": [
    "filled.shape"
   ]
  },
  {
   "cell_type": "code",
   "execution_count": 41,
   "id": "cac3290e-89ed-4308-9ab1-7fc3e456962b",
   "metadata": {},
   "outputs": [
    {
     "data": {
      "text/plain": [
       "np.True_"
      ]
     },
     "execution_count": 41,
     "metadata": {},
     "output_type": "execute_result"
    }
   ],
   "source": [
    "(filled.area==[104, 32,6]).all()"
   ]
  },
  {
   "cell_type": "markdown",
   "id": "819837ab-0ecc-4a6a-af78-d24e71764bd7",
   "metadata": {},
   "source": [
    "## gap coincindent with > 2 polygons"
   ]
  },
  {
   "cell_type": "code",
   "execution_count": 42,
   "id": "3e1a47cc-7839-454c-9f65-f5f868675855",
   "metadata": {},
   "outputs": [
    {
     "data": {
      "text/plain": [
       "<Axes: >"
      ]
     },
     "execution_count": 42,
     "metadata": {},
     "output_type": "execute_result"
    },
    {
     "data": {
      "image/png": "[encoded data removed]",
      "text/plain": [
       "<Figure size 640x480 with 1 Axes>"
      ]
     },
     "metadata": {},
     "output_type": "display_data"
    }
   ],
   "source": [
    "p1 = box(0,0,10,10)\n",
    "p2 = Polygon([(10,10), (12,8), (10,6), (12,4), (10,2), (20,5)])\n",
    "p3 = box(17,0,20,2)\n",
    "p4 = box(10,0, 17, 2)\n",
    "p5 = Polygon([(17, 2), (20,5), (20, 2), (17,2)])\n",
    "\n",
    "gdf = geopandas.GeoDataFrame(geometry=[p1,p2,p3, p4, p5])\n",
    "gdf.plot(edgecolor='k')"
   ]
  },
  {
   "cell_type": "code",
   "execution_count": 43,
   "id": "6701b0a9-b006-4b6c-a2f9-b83311d45a70",
   "metadata": {},
   "outputs": [
    {
     "data": {
      "text/plain": [
       "<Axes: >"
      ]
     },
     "execution_count": 43,
     "metadata": {},
     "output_type": "execute_result"
    },
    {
     "data": {
      "image/png": "[encoded data removed]",
      "text/plain": [
       "<Figure size 640x480 with 1 Axes>"
      ]
     },
     "metadata": {},
     "output_type": "display_data"
    }
   ],
   "source": [
    "g = geoplanar.gaps(gdf)\n",
    "gl = geoplanar.fill_gaps(gdf, strategy='largest')\n",
    "gl.plot(edgecolor='k')"
   ]
  },
  {
   "cell_type": "code",
   "execution_count": 44,
   "id": "7e2d23f1-cd04-4b75-8271-579097f96f3a",
   "metadata": {},
   "outputs": [
    {
     "data": {
      "text/plain": [
       "<Axes: >"
      ]
     },
     "execution_count": 44,
     "metadata": {},
     "output_type": "execute_result"
    },
    {
     "data": {
      "image/png": "[encoded data removed]",
      "text/plain": [
       "<Figure size 640x480 with 1 Axes>"
      ]
     },
     "metadata": {},
     "output_type": "display_data"
    }
   ],
   "source": [
    "gr = geoplanar.fill_gaps(gdf, strategy='smallest')\n",
    "gr.plot(edgecolor='k')"
   ]
  },
  {
   "cell_type": "code",
   "execution_count": 45,
   "id": "d2a753fd-7e65-4279-a224-7d7cf750311c",
   "metadata": {},
   "outputs": [
    {
     "data": {
      "text/plain": [
       "<Axes: >"
      ]
     },
     "execution_count": 45,
     "metadata": {},
     "output_type": "execute_result"
    },
    {
     "data": {
      "image/png": "[encoded data removed]",
      "text/plain": [
       "<Figure size 640x480 with 1 Axes>"
      ]
     },
     "metadata": {},
     "output_type": "display_data"
    }
   ],
   "source": [
    "gr = geoplanar.fill_gaps(gdf, strategy=None)\n",
    "gr.plot(edgecolor='k')"
   ]
  },
  {
   "cell_type": "code",
   "execution_count": 46,
   "id": "4f210c5d-395b-448b-86c8-d6804349a6f7",
   "metadata": {},
   "outputs": [
    {
     "data": {
      "text/plain": [
       "0    MULTIPOLYGON (((17 2, 10 2, 20 5, 17 2)), ((12...\n",
       "1    POLYGON ((10 10, 12 8, 10 6, 12 4, 10 2, 20 5,...\n",
       "2             POLYGON ((20 0, 20 2, 17 2, 17 0, 20 0))\n",
       "3             POLYGON ((17 0, 17 2, 10 2, 10 0, 17 0))\n",
       "4                   POLYGON ((17 2, 20 5, 20 2, 17 2))\n",
       "Name: geometry, dtype: geometry"
      ]
     },
     "execution_count": 46,
     "metadata": {},
     "output_type": "execute_result"
    }
   ],
   "source": [
    "gl.geometry"
   ]
  },
  {
   "cell_type": "code",
   "execution_count": 47,
   "id": "1e428824-c65e-48cc-a7d0-cf10dc913206",
   "metadata": {},
   "outputs": [
    {
     "data": {
      "text/plain": [
       "0    POLYGON ((10 0, 0 0, 0 10, 10 10, 12 8, 10 6, ...\n",
       "1    POLYGON ((10 10, 12 8, 10 6, 12 4, 10 2, 20 5,...\n",
       "2             POLYGON ((20 0, 20 2, 17 2, 17 0, 20 0))\n",
       "3    MULTIPOLYGON (((17 0, 10 0, 10 2, 20 5, 17 2, ...\n",
       "4                   POLYGON ((17 2, 20 5, 20 2, 17 2))\n",
       "Name: geometry, dtype: geometry"
      ]
     },
     "execution_count": 47,
     "metadata": {},
     "output_type": "execute_result"
    }
   ],
   "source": [
    "gr.geometry"
   ]
  },
  {
   "cell_type": "code",
   "execution_count": 48,
   "id": "8e79471a-8e79-4bb4-ae14-799dc86c9554",
   "metadata": {},
   "outputs": [
    {
     "data": {
      "text/plain": [
       "0             POLYGON ((10 0, 10 10, 0 10, 0 0, 10 0))\n",
       "1    POLYGON ((10 10, 12 8, 10 6, 12 4, 10 2, 20 5,...\n",
       "2             POLYGON ((20 0, 20 2, 17 2, 17 0, 20 0))\n",
       "3             POLYGON ((17 0, 17 2, 10 2, 10 0, 17 0))\n",
       "4                   POLYGON ((17 2, 20 5, 20 2, 17 2))\n",
       "Name: geometry, dtype: geometry"
      ]
     },
     "execution_count": 48,
     "metadata": {},
     "output_type": "execute_result"
    }
   ],
   "source": [
    "gdf.geometry"
   ]
  },
  {
   "cell_type": "code",
   "execution_count": 49,
   "id": "4e4571b9-5082-43ee-8661-3ef33592c2a1",
   "metadata": {},
   "outputs": [
    {
     "data": {
      "text/plain": [
       "<Axes: >"
      ]
     },
     "execution_count": 49,
     "metadata": {},
     "output_type": "execute_result"
    },
    {
     "data": {
      "image/png": "[encoded data removed]",
      "text/plain": [
       "<Figure size 640x480 with 1 Axes>"
      ]
     },
     "metadata": {},
     "output_type": "display_data"
    }
   ],
   "source": [
    "gc = geoplanar.fill_gaps(gdf, strategy='compact')\n",
    "gc.plot(edgecolor='k')"
   ]
  }
 ],
 "metadata": {
  "kernelspec": {
   "display_name": "Python 3 (ipykernel)",
   "language": "python",
   "name": "python3"
  },
  "language_info": {
   "codemirror_mode": {
    "name": "ipython",
    "version": 3
   },
   "file_extension": ".py",
   "mimetype": "text/x-python",
   "name": "python",
   "nbconvert_exporter": "python",
   "pygments_lexer": "ipython3",
   "version": "3.10.16"
  },
  "varInspector": {
   "cols": {
    "lenName": 16,
    "lenType": 16,
    "lenVar": 40
   },
   "kernels_config": {
    "python": {
     "delete_cmd_postfix": "",
     "delete_cmd_prefix": "del ",
     "library": "var_list.py",
     "varRefreshCmd": "print(var_dic_list())"
    },
    "r": {
     "delete_cmd_postfix": ") ",
     "delete_cmd_prefix": "rm(",
     "library": "var_list.r",
     "varRefreshCmd": "cat(var_dic_list()) "
    }
   },
   "types_to_exclude": [
    "module",
    "function",
    "builtin_function_or_method",
    "instance",
    "_Feature"
   ],
   "window_display": false
  }
 },
 "nbformat": 4,
 "nbformat_minor": 5
}
